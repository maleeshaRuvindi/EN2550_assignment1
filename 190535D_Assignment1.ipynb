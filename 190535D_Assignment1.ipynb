{
 "cells": [
  {
   "cell_type": "code",
   "execution_count": null,
   "metadata": {},
   "outputs": [],
   "source": [
    "Name : S.M.P.M. Ruvindi\n",
    "Index No : 190535D"
   ]
  },
  {
   "cell_type": "code",
   "execution_count": 2,
   "metadata": {},
   "outputs": [],
   "source": [
    "import numpy as np\n",
    "import cv2 as cv\n",
    "import matplotlib.pyplot as plt\n"
   ]
  },
  {
   "cell_type": "code",
   "execution_count": 7,
   "metadata": {},
   "outputs": [
    {
     "data": {
      "image/png": "[encoded data removed]",
      "text/plain": [
       "<Figure size 432x288 with 1 Axes>"
      ]
     },
     "metadata": {
      "needs_background": "light"
     },
     "output_type": "display_data"
    }
   ],
   "source": [
    "img=cv.imread(r'C:\\Users\\ASUS\\Documents\\coding\\image processing\\images\\emma_gray.jpg',cv.IMREAD_GRAYSCALE)\n",
    "t1= np.linspace(0,50,50)\n",
    "t2= np.linspace(50,100,0)\n",
    "t3= np.linspace(100,255,100)\n",
    "t4= np.linspace(255,150,0)\n",
    "t5= np.linspace(150,255,106)\n",
    "t = np.concatenate((t1,t2,t3,t4,t5),axis=0).astype(np.uint8)\n",
    "fig,ax = plt.subplots()\n",
    "ax.plot(t)\n",
    "ax.set_aspect('equal')\n",
    "assert len(t) == 256\n",
    "\n"
   ]
  }
 ],
 "metadata": {
  "interpreter": {
   "hash": "71a9e55ea9a4eb0ec0516cb2ecfe4cae1c555e7d5ef5085da43b83b5c34d74bd"
  },
  "kernelspec": {
   "display_name": "Python 3.10.2 64-bit (system)",
   "language": "python",
   "name": "python3"
  },
  "language_info": {
   "codemirror_mode": {
    "name": "ipython",
    "version": 3
   },
   "file_extension": ".py",
   "mimetype": "text/x-python",
   "name": "python",
   "nbconvert_exporter": "python",
   "pygments_lexer": "ipython3",
   "version": "3.10.2"
  },
  "orig_nbformat": 4
 },
 "nbformat": 4,
 "nbformat_minor": 2
}
